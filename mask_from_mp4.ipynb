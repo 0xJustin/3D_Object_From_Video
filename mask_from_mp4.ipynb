{
 "cells": [
  {
   "cell_type": "code",
   "execution_count": 1,
   "metadata": {},
   "outputs": [],
   "source": [
    "from __future__ import print_function\n",
    "import cv2 as cv\n",
    "import argparse\n",
    "import numpy as np\n",
    "algo = 'MOG2'\n",
    "masks = []\n",
    "frames = []\n",
    "\n",
    "if algo == 'MOG2':\n",
    "    backSub = cv.createBackgroundSubtractorMOG2()\n",
    "else:\n",
    "    backSub = cv.createBackgroundSubtractorKNN()\n",
    "\n",
    "capture = cv.VideoCapture(cv.samples.findFileOrKeep(\"./data/storm.mp4\"))\n",
    "if not capture.isOpened:\n",
    "    print('Unable to open: ' + args.input)\n",
    "    exit(0)\n",
    "while True:\n",
    "    ret, frame = capture.read()\n",
    "    if frame is None:\n",
    "        break\n",
    "    frame = cv.resize(frame, (256,256))\n",
    "#     fgMask = backSub.apply(frame)\n",
    "    \n",
    "    mask = cv.inRange(frame, (240,240,240), (255,255,255))\n",
    "    \n",
    "#     cv.rectangle(frame, (10, 2), (100,20), (255,255,255), -1)\n",
    "#     cv.putText(frame, str(capture.get(cv.CAP_PROP_POS_FRAMES)), (15, 15),\n",
    "#                cv.FONT_HERSHEY_SIMPLEX, 0.5 , (0,0,0))\n",
    "    \n",
    "    masks.append(mask)\n",
    "    frames.append(frame)\n",
    "#     cv.imshow('Frame', frame)\n",
    "#     cv.imshow('FG Mask', mask)\n",
    "    \n",
    "#     keyboard = cv.waitKey(0)\n",
    "#     if keyboard == 'q' or keyboard == 27:\n",
    "#         break"
   ]
  },
  {
   "cell_type": "code",
   "execution_count": 2,
   "metadata": {},
   "outputs": [
    {
     "name": "stdout",
     "output_type": "stream",
     "text": [
      "(53, 256, 256) (53, 256, 256, 3)\n"
     ]
    }
   ],
   "source": [
    "masks = np.asarray(masks)\n",
    "frames = np.asarray(frames)\n",
    "print(masks.shape, frames.shape)\n",
    "\n",
    "frame_list = []\n",
    "for frame in frames:\n",
    "    frame_list.append(np.array(frame))\n",
    "# np.save(open(\"./data/storm_frames.npy\", \"wb\"), np.array(frame_list))"
   ]
  },
  {
   "cell_type": "code",
   "execution_count": 6,
   "metadata": {},
   "outputs": [],
   "source": [
    "mask_thresh = []\n",
    "for i in range(1, len(masks) - 2):\n",
    "    mask_thresh.append(np.array(masks[i]) > 0)"
   ]
  },
  {
   "cell_type": "code",
   "execution_count": 23,
   "metadata": {},
   "outputs": [],
   "source": [
    "import numpy as np\n",
    "np.save(open(\"./data/mask_thresh_marine.npy\", \"wb\"), np.array(mask_thresh))"
   ]
  },
  {
   "cell_type": "code",
   "execution_count": 11,
   "metadata": {},
   "outputs": [
    {
     "data": {
      "image/png": "[encoded data removed]",
      "text/plain": [
       "<Figure size 432x288 with 1 Axes>"
      ]
     },
     "metadata": {
      "needs_background": "light"
     },
     "output_type": "display_data"
    }
   ],
   "source": [
    "import matplotlib.pyplot as plt\n",
    "plt.imshow(mask_thresh[10])\n",
    "plt.show()"
   ]
  },
  {
   "cell_type": "code",
   "execution_count": null,
   "metadata": {},
   "outputs": [],
   "source": []
  }
 ],
 "metadata": {
  "kernelspec": {
   "display_name": "Python 3",
   "language": "python",
   "name": "python3"
  },
  "language_info": {
   "codemirror_mode": {
    "name": "ipython",
    "version": 3
   },
   "file_extension": ".py",
   "mimetype": "text/x-python",
   "name": "python",
   "nbconvert_exporter": "python",
   "pygments_lexer": "ipython3",
   "version": "3.7.4"
  }
 },
 "nbformat": 4,
 "nbformat_minor": 2
}
